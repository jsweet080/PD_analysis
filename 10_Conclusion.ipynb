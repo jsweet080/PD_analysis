{
 "cells": [
  {
   "cell_type": "markdown",
   "metadata": {},
   "source": [
    "# Capstone - Partial Discharge\n",
    "## Julian Sweet DSI-LA-6\n",
    "## Notebook 8 - Conclusions, Suggested Future Scaling"
   ]
  },
  {
   "cell_type": "markdown",
   "metadata": {},
   "source": [
    "## Inter-wire interaction\n",
    "\n",
    "One of the most pressing questions is whether of 3 wires from the same \"measurement_id\" wires that show two-fold or three-fold partial discharge failure is likely due to some form of interaction between wires. My reading of literature has shown that while coronal arcing is still possible, it is more likely that shared wire groupings (identical \"measurement_id\") have been subjected to identical environmental strain, or both wires were improperly installed at the same time, or were sourced from the same batch of inferior material. They are also quite likely to be of the same age and therefore likely to fail around the same time. For this reason, a feature set of interacting 3 wire groups was not created. However, an exhaustive investigation might it."
   ]
  },
  {
   "cell_type": "markdown",
   "metadata": {},
   "source": [
    "## Production Model\n",
    "\n",
    "Without evidence to the contrary, a linear / logistic regression model should always be attempted first. It is the simplest, most \"white box\" and human interpretable model we possess. Special cases always exist, such as microclassifying breeds of dogs with a Fast.ai neural network. However, without a domain specific model, regression is the where an inevestigation should begin.\n",
    "\n",
    "Both logisitic regression and extreme random forest performed almost identically, although the decision tree did overfit to the training data. For this reason, I would suggest the logistic regression as the production model.\n",
    "\n",
    "\n",
    "The nature of this partial discharge problem is such that one wishes to minimize false negative and does not mind extra false positives as there will alwayd be a \"human in the loop\" or alternative methods to verify an initial positive determination.\n"
   ]
  },
  {
   "cell_type": "markdown",
   "metadata": {},
   "source": [
    "## Next Steps\n",
    "\n",
    "Going forward, I would suggest doing the following:\n",
    "    \n",
    "    1. Use higher resolution FFT arrays (1024 in length, instead of 256)\n",
    "    \n",
    "    2. Create STFT FFT arrays so that one can see if PD correlates with when in the time sample an event occurs or if         \n",
    "    it occurs with some proximity to a node or anti-node.\n",
    "    \n",
    "    3. The FFT of a real time series gives symmetrical around zero, complex number. For this initial investigation,     \n",
    "    magnitude was only used in the frequency domain. Instead, break the signal into its real and imaginary componets as \n",
    "    seperate datasets. The phase data n the frequency space could be elucidative.\n",
    "    \n",
    "\n"
   ]
  },
  {
   "cell_type": "markdown",
   "metadata": {},
   "source": [
    "## Disk to Memory Limitations\n",
    "\n",
    "The first roadblock encountered with not only modeling but even simple maniuplation of this dataset is a consequence of it's size. Attempting to bring an entire dense matrix of 8 bit integer values into memory led to frequent kernel restarts, or the Jupyetr notebook becoming nonresponsive. Similar behavior was observed even with a fairly powerful AWS remote machine.\n",
    "\n",
    "As \"Big Data\" is an endemic part of machine learning and data science in general, many solutions exist which should be explored further, a few are as follows:\n",
    "\n",
    "Anaconda Dask - The motivation behind Dask is to replicate the functionality of the Pandas library and increase the capacity of a Panda Dataframe. Currently a dataframe, or the python environment in general is limited to available RAM whereas a Dask Dataframe expands that limit to available hard drive capacity. Dask also provides transparent parallelization of read / write operations with the hard drive as needed during a computation.\n",
    "\n",
    "HDF5 - Hierarchical Data Format ver.5 is explicitly designed to store and organize large amounts of data. \n",
    "\n",
    "Apache Parquet - Another big data file format that stores information columnasrly and automaticlly incorporates compression.\n",
    "\n",
    "SciPy / NumPy Memmap - Appears to be a method whereby variables can be mapped to datasets on disk much like the other examples given.\n",
    "\n",
    "AWS - A \"g2/xlarge\" with multiple cores, 100 GB of disk space and 61GB of RAM was employed at one point. The swap space of the AWS was quickly clogged by the larger datasets during computation. Spinning up a still larger instance may be a blunt way of getting around the problem. Particularly, if models and data can be well composed prior to starting an expensive instance and then quickly running the models on a much larger machine,."
   ]
  },
  {
   "cell_type": "markdown",
   "metadata": {},
   "source": [
    "### Articles Referenced\n",
    "\n",
    "1. Caprara, A., Cavallini, A., Garagnani, L., & Guo, J. (2018). A novel approach for continuous monitoring of Partial Discharge phenomena on Medium Voltage equipments. 2018 IEEE Electrical Insulation Conference (EIC), (June), 495–498.\n",
    "\n",
    "2. Suganya, G., Jayalalitha, S., Kannan, K., & Venkatesh, S. (2017). Survey of de-noising techniques for partial discharge interferences. ARPN Journal of Engineering and Applied Sciences, 12(2), 414–427.\n",
    "\n",
    "3. Assoc, S., Trevor, P., Wu, M., Cao, H., Cao, J., Nguyen, H. L., … Taylor, P. (2017). A clustering technique for partial discharge and noise sources identification in power cables by means of waveform parameters. IEEE Transactions on Dielectrics and Electrical Insulation, 23(1), 469–481. https://doi.org/10.1109/MEI.2006.1618967\n",
    "\n",
    "4. Alvarez, F., Ortego, J., Garnacho, F., & Sanchez-Uran, M. A. (2016). A clustering technique for partial discharge and noise sources identification in power cables by means of waveform parameters. IEEE Transactions on Dielectrics and Electrical Insulation, 23(1), 469–481. https://doi.org/10.1109/TDEI.2015.005037\n",
    "\n",
    "5. Raymond, W. J. K., Illias, H. A., & Bakar, A. H. A. (2017). Classification of partial discharge measured under different levels of noise contamination. PLoS ONE, 12(1), 1–20. https://doi.org/10.1371/journal.pone.0170111\n",
    "\n",
    "6. Wu, M., Cao, H., Cao, J., Nguyen, H. L., Gomes, J. B., & Krishnaswamy, S. P. (2015). An overview of state-of-the-art partial discharge analysis techniques for condition monitoring. IEEE Electrical Insulation Magazine, 31(6), 22–35. https://doi.org/10.1109/MEI.2015.7303259\n",
    "\n",
    "7. Zhang, H., Blackburn, T., Phung, B. T., Hanlon, J., & Taylor, P. (2014). a Software-Based Differential Technique for Partial Discharge Detection, (June)."
   ]
  }
 ],
 "metadata": {
  "kernelspec": {
   "display_name": "Python 3",
   "language": "python",
   "name": "python3"
  },
  "language_info": {
   "codemirror_mode": {
    "name": "ipython",
    "version": 3
   },
   "file_extension": ".py",
   "mimetype": "text/x-python",
   "name": "python",
   "nbconvert_exporter": "python",
   "pygments_lexer": "ipython3",
   "version": "3.6.8"
  }
 },
 "nbformat": 4,
 "nbformat_minor": 2
}
