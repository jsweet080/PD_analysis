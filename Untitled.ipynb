{
 "cells": [
  {
   "cell_type": "markdown",
   "metadata": {},
   "source": [
    "### Conclusion\n",
    "\n",
    "It is tempting to want to make an assumtion that groups of identical \"measurement_id\" wires that show two-fold or three-fold partial discharge failure is likely due to some form of interaction between wires. While coronal arcing is still possible, it is more likely that shared wire groupings (identical \"measurement_id\") have been subjected to identical environmantal strain, both were improperly installed at the same time, or were sourced from the same batch of inferior material. They are also quite likely to be of the same age."
   ]
  }
 ],
 "metadata": {
  "kernelspec": {
   "display_name": "Python 3",
   "language": "python",
   "name": "python3"
  },
  "language_info": {
   "codemirror_mode": {
    "name": "ipython",
    "version": 3
   },
   "file_extension": ".py",
   "mimetype": "text/x-python",
   "name": "python",
   "nbconvert_exporter": "python",
   "pygments_lexer": "ipython3",
   "version": "3.6.8"
  }
 },
 "nbformat": 4,
 "nbformat_minor": 2
}
