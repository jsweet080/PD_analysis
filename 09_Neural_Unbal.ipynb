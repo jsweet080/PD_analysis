{
 "cells": [
  {
   "cell_type": "markdown",
   "metadata": {},
   "source": [
    "# Capstone - Partial Discharge\n",
    "## Julian Sweet DSI-LA-6\n",
    "## Notebook 7 - Neural Network Modeling, Unbalanced Class"
   ]
  },
  {
   "cell_type": "markdown",
   "metadata": {},
   "source": [
    "A Sequential neural network will be built out to see if it can outperform the decision tree model from previous notebooks."
   ]
  },
  {
   "cell_type": "code",
   "execution_count": 12,
   "metadata": {},
   "outputs": [],
   "source": [
    "import numpy as np\n",
    "import pandas as pd\n",
    "from keras.utils import np_utils\n",
    "from sklearn.model_selection import train_test_split\n",
    "from keras.models import Sequential\n",
    "from keras.layers import Dense, Input, Dropout, Conv2D, MaxPooling2D, Flatten, Activation\n",
    "from keras.utils import np_utils\n",
    "from scipy.fftpack import fft\n",
    "\n",
    "%matplotlib inline"
   ]
  },
  {
   "cell_type": "code",
   "execution_count": 13,
   "metadata": {},
   "outputs": [],
   "source": [
    "X_train_fft = np.load('./npy_datasets/X_train_unbal_fft.npy')\n",
    "X_test_fft  = np.load('./npy_datasets/X_test_unbal_fft.npy')\n",
    "y_test        = np.load('./npy_datasets/y_test.npy')\n",
    "y_train       = np.load('./npy_datasets/y_train.npy')"
   ]
  },
  {
   "cell_type": "code",
   "execution_count": 14,
   "metadata": {},
   "outputs": [
    {
     "name": "stdout",
     "output_type": "stream",
     "text": [
      "CPU times: user 2.19 ms, sys: 1.49 ms, total: 3.68 ms\n",
      "Wall time: 2.18 ms\n"
     ]
    }
   ],
   "source": [
    "%%time\n",
    "y_test = np_utils.to_categorical(y_test)\n",
    "y_train = np_utils.to_categorical(y_train)"
   ]
  },
  {
   "cell_type": "code",
   "execution_count": 15,
   "metadata": {},
   "outputs": [],
   "source": [
    "X_train_fft = X_train_fft / np.max(X_train_fft)\n",
    "X_test_fft = X_test_fft / np.max(X_test_fft)"
   ]
  },
  {
   "cell_type": "code",
   "execution_count": 16,
   "metadata": {},
   "outputs": [
    {
     "data": {
      "text/plain": [
       "((6969, 256), (1743, 256))"
      ]
     },
     "execution_count": 16,
     "metadata": {},
     "output_type": "execute_result"
    }
   ],
   "source": [
    "X_train_fft.shape, X_test_fft.shape"
   ]
  },
  {
   "cell_type": "code",
   "execution_count": 17,
   "metadata": {},
   "outputs": [],
   "source": [
    "X2_train = X_train_fft.reshape([6969, 16, 16, 1]) "
   ]
  },
  {
   "cell_type": "code",
   "execution_count": 18,
   "metadata": {},
   "outputs": [],
   "source": [
    "X2_test = X_test_fft.reshape([1743, 16, 16, 1])"
   ]
  },
  {
   "cell_type": "code",
   "execution_count": 19,
   "metadata": {},
   "outputs": [
    {
     "data": {
      "text/plain": [
       "(6969, 16, 16, 1)"
      ]
     },
     "execution_count": 19,
     "metadata": {},
     "output_type": "execute_result"
    }
   ],
   "source": [
    "X2_train.shape"
   ]
  },
  {
   "cell_type": "code",
   "execution_count": 20,
   "metadata": {},
   "outputs": [],
   "source": [
    "cnn_model = Sequential()\n",
    "cnn_model.add(Conv2D(filters = 8, kernel_size=3, activation='relu', input_shape = (16, 16, 1)))\n",
    "cnn_model.add(MaxPooling2D(pool_size=(2,2)))\n",
    "cnn_model.add(Conv2D(16, kernel_size = 3, activation='relu'))\n",
    "cnn_model.add(MaxPooling2D(pool_size=(2,2)))\n",
    "cnn_model.add(Flatten())\n",
    "cnn_model.add(Dense(128, activation='relu'))\n",
    "cnn_model.add(Dense(2, activation='softmax'))\n",
    "cnn_model.compile(loss='categorical_crossentropy',\n",
    "                  optimizer = 'adam',\n",
    "                  metrics = ['accuracy'])"
   ]
  },
  {
   "cell_type": "code",
   "execution_count": 21,
   "metadata": {},
   "outputs": [
    {
     "name": "stdout",
     "output_type": "stream",
     "text": [
      "Epoch 1/15\n",
      "6969/6969 [==============================] - 1s 91us/step - loss: 0.3544 - acc: 0.9397\n",
      "Epoch 2/15\n",
      "6969/6969 [==============================] - 0s 47us/step - loss: 0.2291 - acc: 0.9397\n",
      "Epoch 3/15\n",
      "6969/6969 [==============================] - 0s 47us/step - loss: 0.2278 - acc: 0.9397\n",
      "Epoch 4/15\n",
      "6969/6969 [==============================] - 0s 49us/step - loss: 0.2281 - acc: 0.9397\n",
      "Epoch 5/15\n",
      "6969/6969 [==============================] - 0s 47us/step - loss: 0.2277 - acc: 0.9397\n",
      "Epoch 6/15\n",
      "6969/6969 [==============================] - 0s 47us/step - loss: 0.2270 - acc: 0.9397\n",
      "Epoch 7/15\n",
      "6969/6969 [==============================] - 0s 48us/step - loss: 0.2265 - acc: 0.9397\n",
      "Epoch 8/15\n",
      "6969/6969 [==============================] - 0s 47us/step - loss: 0.2249 - acc: 0.9397\n",
      "Epoch 9/15\n",
      "6969/6969 [==============================] - 0s 48us/step - loss: 0.2240 - acc: 0.9397\n",
      "Epoch 10/15\n",
      "6969/6969 [==============================] - 0s 48us/step - loss: 0.2227 - acc: 0.9397\n",
      "Epoch 11/15\n",
      "6969/6969 [==============================] - 0s 48us/step - loss: 0.2215 - acc: 0.9397\n",
      "Epoch 12/15\n",
      "6969/6969 [==============================] - 0s 49us/step - loss: 0.2195 - acc: 0.9397\n",
      "Epoch 13/15\n",
      "6969/6969 [==============================] - 0s 48us/step - loss: 0.2176 - acc: 0.9397\n",
      "Epoch 14/15\n",
      "6969/6969 [==============================] - 0s 47us/step - loss: 0.2171 - acc: 0.9397\n",
      "Epoch 15/15\n",
      "6969/6969 [==============================] - 0s 48us/step - loss: 0.2148 - acc: 0.9397\n"
     ]
    },
    {
     "data": {
      "text/plain": [
       "<keras.callbacks.History at 0x1c33b636d8>"
      ]
     },
     "execution_count": 21,
     "metadata": {},
     "output_type": "execute_result"
    }
   ],
   "source": [
    "cnn_model.fit(X2_train,\n",
    "              y_train,\n",
    "              batch_size = 100,\n",
    "              epochs=15,\n",
    "              verbose=1)"
   ]
  },
  {
   "cell_type": "code",
   "execution_count": 22,
   "metadata": {},
   "outputs": [
    {
     "name": "stdout",
     "output_type": "stream",
     "text": [
      "1743/1743 [==============================] - 0s 55us/step\n"
     ]
    },
    {
     "data": {
      "text/plain": [
       "[0.219038379795922, 0.9397590361445783]"
      ]
     },
     "execution_count": 22,
     "metadata": {},
     "output_type": "execute_result"
    }
   ],
   "source": [
    "cnn_model.evaluate(X2_test,y_test)"
   ]
  },
  {
   "cell_type": "markdown",
   "metadata": {},
   "source": [
    "The performance doesn't exceed the decision tree model.  Therefore, the additional computational complexity and black box nature of a neural network means that the logisitic regression or decision tree is preferred. At least for modeling on low resolution frequency domain data."
   ]
  },
  {
   "cell_type": "code",
   "execution_count": null,
   "metadata": {},
   "outputs": [],
   "source": []
  }
 ],
 "metadata": {
  "kernelspec": {
   "display_name": "Python 3",
   "language": "python",
   "name": "python3"
  },
  "language_info": {
   "codemirror_mode": {
    "name": "ipython",
    "version": 3
   },
   "file_extension": ".py",
   "mimetype": "text/x-python",
   "name": "python",
   "nbconvert_exporter": "python",
   "pygments_lexer": "ipython3",
   "version": "3.6.8"
  }
 },
 "nbformat": 4,
 "nbformat_minor": 2
}
