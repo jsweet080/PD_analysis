{
 "cells": [
  {
   "cell_type": "markdown",
   "metadata": {},
   "source": [
    "# Capstone - Partial Discharge\n",
    "## Julian Sweet DSI-LA-6\n",
    "## Notebook 6 - Neural Network Modeling, Balanced Class"
   ]
  },
  {
   "cell_type": "code",
   "execution_count": 1,
   "metadata": {},
   "outputs": [
    {
     "name": "stderr",
     "output_type": "stream",
     "text": [
      "Using TensorFlow backend.\n"
     ]
    },
    {
     "name": "stdout",
     "output_type": "stream",
     "text": [
      "Couldn't import dot_parser, loading of dot files will not be possible.\n"
     ]
    }
   ],
   "source": [
    "import numpy as np\n",
    "import pandas as pd\n",
    "from keras.utils import np_utils\n",
    "from keras.models import Sequential\n",
    "from keras.layers import Dense, Input, Dropout, Conv2D, MaxPooling2D, Flatten, Activation\n",
    "from keras.utils import np_utils\n",
    "from scipy.fftpack import fft\n",
    "\n",
    "%matplotlib inline"
   ]
  },
  {
   "cell_type": "code",
   "execution_count": 12,
   "metadata": {},
   "outputs": [],
   "source": [
    "X_train_fft    = np.load('./npy_datasets/X_train_bal_fft.npy')\n",
    "X_test_fft     = np.load('./npy_datasets/X_test_bal_fft.npy')\n",
    "y_test_resamp  = np.load('./npy_datasets/y_test_resamp.npy')\n",
    "y_train_resamp = np.load('./npy_datasets/y_train_resamp.npy')"
   ]
  },
  {
   "cell_type": "code",
   "execution_count": 13,
   "metadata": {},
   "outputs": [],
   "source": [
    "y_test_resamp = np_utils.to_categorical(y_test_resamp)\n",
    "y_train_resamp = np_utils.to_categorical(y_train_resamp)"
   ]
  },
  {
   "cell_type": "code",
   "execution_count": 14,
   "metadata": {},
   "outputs": [],
   "source": [
    "X_train_fft = X_train_fft / np.max(X_train_fft)\n",
    "X_test_fft = X_test_fft / np.max(X_test_fft)"
   ]
  },
  {
   "cell_type": "code",
   "execution_count": 15,
   "metadata": {},
   "outputs": [
    {
     "data": {
      "text/plain": [
       "((840, 256), (210, 256))"
      ]
     },
     "execution_count": 15,
     "metadata": {},
     "output_type": "execute_result"
    }
   ],
   "source": [
    "X_train_fft.shape, X_test_fft.shape"
   ]
  },
  {
   "cell_type": "code",
   "execution_count": 16,
   "metadata": {},
   "outputs": [],
   "source": [
    "X2_train = X_train_fft.reshape([840, 16, 16, 1]) "
   ]
  },
  {
   "cell_type": "code",
   "execution_count": 17,
   "metadata": {},
   "outputs": [],
   "source": [
    "X2_test = X_test_fft.reshape([210, 16, 16, 1])"
   ]
  },
  {
   "cell_type": "code",
   "execution_count": 18,
   "metadata": {},
   "outputs": [
    {
     "data": {
      "text/plain": [
       "(840, 16, 16, 1)"
      ]
     },
     "execution_count": 18,
     "metadata": {},
     "output_type": "execute_result"
    }
   ],
   "source": [
    "X2_train.shape"
   ]
  },
  {
   "cell_type": "code",
   "execution_count": 19,
   "metadata": {},
   "outputs": [],
   "source": [
    "cnn_model = Sequential()\n",
    "cnn_model.add(Conv2D(filters = 8, kernel_size=3, activation='relu', input_shape = (16, 16, 1)))\n",
    "cnn_model.add(MaxPooling2D(pool_size=(2,2)))\n",
    "cnn_model.add(Conv2D(16, kernel_size = 3, activation='relu'))\n",
    "cnn_model.add(MaxPooling2D(pool_size=(2,2)))\n",
    "cnn_model.add(Flatten())\n",
    "cnn_model.add(Dense(128, activation='relu'))\n",
    "cnn_model.add(Dense(2, activation='softmax'))\n",
    "cnn_model.compile(loss='categorical_crossentropy',\n",
    "                  optimizer = 'adam',\n",
    "                  metrics = ['accuracy'])"
   ]
  },
  {
   "cell_type": "code",
   "execution_count": 20,
   "metadata": {},
   "outputs": [
    {
     "name": "stdout",
     "output_type": "stream",
     "text": [
      "Epoch 1/15\n",
      "840/840 [==============================] - 0s 415us/step - loss: 0.6934 - acc: 0.5048\n",
      "Epoch 2/15\n",
      "840/840 [==============================] - 0s 53us/step - loss: 0.6933 - acc: 0.4988\n",
      "Epoch 3/15\n",
      "840/840 [==============================] - 0s 53us/step - loss: 0.6931 - acc: 0.5000\n",
      "Epoch 4/15\n",
      "840/840 [==============================] - 0s 52us/step - loss: 0.6931 - acc: 0.5048\n",
      "Epoch 5/15\n",
      "840/840 [==============================] - 0s 52us/step - loss: 0.6929 - acc: 0.5440\n",
      "Epoch 6/15\n",
      "840/840 [==============================] - 0s 53us/step - loss: 0.6929 - acc: 0.5238\n",
      "Epoch 7/15\n",
      "840/840 [==============================] - 0s 53us/step - loss: 0.6929 - acc: 0.5310\n",
      "Epoch 8/15\n",
      "840/840 [==============================] - 0s 54us/step - loss: 0.6926 - acc: 0.5274\n",
      "Epoch 9/15\n",
      "840/840 [==============================] - 0s 54us/step - loss: 0.6923 - acc: 0.5357\n",
      "Epoch 10/15\n",
      "840/840 [==============================] - 0s 57us/step - loss: 0.6922 - acc: 0.5024\n",
      "Epoch 11/15\n",
      "840/840 [==============================] - 0s 57us/step - loss: 0.6918 - acc: 0.5298\n",
      "Epoch 12/15\n",
      "840/840 [==============================] - 0s 54us/step - loss: 0.6908 - acc: 0.5619\n",
      "Epoch 13/15\n",
      "840/840 [==============================] - 0s 53us/step - loss: 0.6907 - acc: 0.5012\n",
      "Epoch 14/15\n",
      "840/840 [==============================] - 0s 51us/step - loss: 0.6891 - acc: 0.5321\n",
      "Epoch 15/15\n",
      "840/840 [==============================] - 0s 53us/step - loss: 0.6899 - acc: 0.5321\n"
     ]
    },
    {
     "data": {
      "text/plain": [
       "<keras.callbacks.History at 0x1c2e91d278>"
      ]
     },
     "execution_count": 20,
     "metadata": {},
     "output_type": "execute_result"
    }
   ],
   "source": [
    "cnn_model.fit(X2_train,\n",
    "              y_train_resamp,\n",
    "              batch_size = 100,\n",
    "              epochs=15,\n",
    "              verbose=1)"
   ]
  },
  {
   "cell_type": "code",
   "execution_count": 21,
   "metadata": {},
   "outputs": [
    {
     "name": "stdout",
     "output_type": "stream",
     "text": [
      "210/210 [==============================] - 0s 331us/step\n"
     ]
    },
    {
     "data": {
      "text/plain": [
       "[0.6840717275937398, 0.5714285719962348]"
      ]
     },
     "execution_count": 21,
     "metadata": {},
     "output_type": "execute_result"
    }
   ],
   "source": [
    "cnn_model.evaluate(X2_test,y_test_resamp)"
   ]
  },
  {
   "cell_type": "markdown",
   "metadata": {},
   "source": [
    "Appreciably worse than the decision tree model. Rather than trying to optimize, move onto unbalanced classes neural network. It's likely a neural network will not be suggested as a production model."
   ]
  },
  {
   "cell_type": "code",
   "execution_count": null,
   "metadata": {},
   "outputs": [],
   "source": []
  }
 ],
 "metadata": {
  "kernelspec": {
   "display_name": "Python 3",
   "language": "python",
   "name": "python3"
  },
  "language_info": {
   "codemirror_mode": {
    "name": "ipython",
    "version": 3
   },
   "file_extension": ".py",
   "mimetype": "text/x-python",
   "name": "python",
   "nbconvert_exporter": "python",
   "pygments_lexer": "ipython3",
   "version": "3.6.8"
  }
 },
 "nbformat": 4,
 "nbformat_minor": 2
}
