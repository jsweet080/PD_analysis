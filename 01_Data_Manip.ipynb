{
 "cells": [
  {
   "cell_type": "markdown",
   "metadata": {},
   "source": [
    "# Capstone - Partial Discharge\n",
    "## Julian Sweet DSI-LA-6\n",
    "## Notebook 1 - Data manipulation"
   ]
  },
  {
   "cell_type": "markdown",
   "metadata": {},
   "source": [
    "The problem of electrical transmission line partial discharge is a ubiquitious concern for all power networks.\n",
    "\n",
    "> https://www.kaggle.com/c/vsb-power-line-fault-detection\n",
    "\n",
    "The partial discharge training dataset is 8712 recordings of voltage fluctuations along \"medium voltage\" transmission lines in Czech Republic. Medium and high voltage transmission lines transport electrical engineering in a \"3-phase\" or tri-phasic configuration. This means that one can think of there being 4 power lines in total: a neutral / common wire as well as 3 energized lines transporting alternating current (AC) alternating between approximately positive and negative 20,000 Volts (+/- 20KV) at rate of 50 Hertz (Hz). An ideal represenation would be 3 sinusoids out of phase by 120 degrees as represented below. 50 Hertz corresponds with a oscillation of 50 times per second, or a periodicity of 1 / 50 sec^-1 = 20 milliseconds.\n",
    "\n",
    "Each time series signal is a one-dimensional array of 800,000 samples of one period of the all three wire phases. Therefore, 20 miliseconds / 800,000 samples gives a sampling period of 25 nanoseconds or 40 MHz.\n",
    "\n",
    "This project at it'a heart is best characterized as an anomaly detection problem. In the provided dataset, there is 525 labelled failure time-series voltage recordings within the larger dataset of 8712 redordings.\n",
    "However, it will be interesting to contrast training a model on both an anomolous, unbalanced dataset (~ 6% / 94%) as well as a resampled dataset with balanced (50% / 50%) classes.\n",
    "\n",
    "Data labels are stored in seperate CSV files below. The Kaggle provided training data is an Apache Parquet file which has the functionality of compression as well as each data recording is stored columnarly.\n",
    "\n",
    "For the purpose of this project, the larger Kaggle provided test data, 'test.parquet' will be excluded as no target labelling is provided. Therefore, determinations of accuracy, overfitting, precision, etc. cannot be determined.\n",
    "\n",
    "Data imported below:"
   ]
  },
  {
   "cell_type": "code",
   "execution_count": 16,
   "metadata": {},
   "outputs": [],
   "source": [
    "import numpy as np\n",
    "import pandas as pd\n",
    "from sklearn.model_selection import train_test_split\n",
    "from sys import getsizeof\n",
    "\n",
    "%matplotlib inline"
   ]
  },
  {
   "cell_type": "markdown",
   "metadata": {},
   "source": [
    "The VSB partial discharge dataset is composed of several files:\n",
    "\n",
    "'train.parquet' - \n",
    "\n",
    "An Apache Parquet data file that is 3.81GB in size and is a compressed format. Each measurement is stored columnarly, with 8712 measurements (columns) and each columns composed of 800,000 rows spanning 20 milliseconds in time. Each data point is stored as an 8-bit integer value. So while loaded entirely in memory the 'train.parquet' should inhabit approximately 8712 columns x 800,000 rows =  6.9 GB of data.\n",
    "\n",
    "Apache Parqet is a popular and promulgated filetype which possesses functionality that allows one to selectively load portions of the file into memory without loading the large archive in its entirety. It also automatically incorporates compression.\n",
    "\n",
    "'metadata_train.csv' - \n",
    "\n",
    "A 118 kB comma seperated values (CSV) file that contains labels for the larger 'train.parquet'.  The first column, 'signal_id' is a unique identifier ranging from 0 to 8711. The second column, 'id_measurement' identifies groupings of the wires for each measurement. Every three wires share a 'id_measurement'. The phase of a grouping of three wires is represneted by 'phase' column and can take on the values 0, 1 or 2 which is the convention for 3 phase power.\n",
    "\n",
    "The 'target' column takes on a value of 1 for wires labelled as possessing the partial discharge (PD) condition and 0 for wires not considered to be experiencing PD.\n",
    "\n",
    "'test.parquet' and 'metadata_test.csv - \n",
    "\n",
    "These files correspond to a larger test dataset in Apache Parquet and CSV respectively. As this larger dataset does not possess a 'target' label, it will be excluded from this project. With out a 'target' label there is no way to ascertain the accuracy, precision or degree of overfit. So while useful in the context of the Kaggle competition, this exploration will not include them.\n",
    "\n",
    " \n",
    "The Pandas library possesses methods to load both CSV as well as Apache Parquet files. The two files of interest are loaded below, with the training dataset transposed so that there are now 8,712 rows of unique observations each composed of 800,000 columns of time-series voltage measurements. Transposition is computationally cost free."
   ]
  },
  {
   "cell_type": "code",
   "execution_count": 27,
   "metadata": {},
   "outputs": [
    {
     "name": "stdout",
     "output_type": "stream",
     "text": [
      "CPU times: user 1min 21s, sys: 48 s, total: 2min 9s\n",
      "Wall time: 43.8 s\n"
     ]
    }
   ],
   "source": [
    "%%time\n",
    "meta_train = pd.read_csv('./VSB_unpacked/metadata_train.csv')\n",
    "df_train = pd.read_parquet('VSB_unpacked/train.parquet').T"
   ]
  },
  {
   "cell_type": "code",
   "execution_count": 28,
   "metadata": {},
   "outputs": [
    {
     "data": {
      "text/html": [
       "<div>\n",
       "<style scoped>\n",
       "    .dataframe tbody tr th:only-of-type {\n",
       "        vertical-align: middle;\n",
       "    }\n",
       "\n",
       "    .dataframe tbody tr th {\n",
       "        vertical-align: top;\n",
       "    }\n",
       "\n",
       "    .dataframe thead th {\n",
       "        text-align: right;\n",
       "    }\n",
       "</style>\n",
       "<table border=\"1\" class=\"dataframe\">\n",
       "  <thead>\n",
       "    <tr style=\"text-align: right;\">\n",
       "      <th></th>\n",
       "      <th>0</th>\n",
       "      <th>1</th>\n",
       "      <th>2</th>\n",
       "      <th>3</th>\n",
       "      <th>4</th>\n",
       "      <th>5</th>\n",
       "      <th>6</th>\n",
       "      <th>7</th>\n",
       "      <th>8</th>\n",
       "      <th>9</th>\n",
       "      <th>...</th>\n",
       "      <th>799990</th>\n",
       "      <th>799991</th>\n",
       "      <th>799992</th>\n",
       "      <th>799993</th>\n",
       "      <th>799994</th>\n",
       "      <th>799995</th>\n",
       "      <th>799996</th>\n",
       "      <th>799997</th>\n",
       "      <th>799998</th>\n",
       "      <th>799999</th>\n",
       "    </tr>\n",
       "  </thead>\n",
       "  <tbody>\n",
       "    <tr>\n",
       "      <th>0</th>\n",
       "      <td>18</td>\n",
       "      <td>18</td>\n",
       "      <td>17</td>\n",
       "      <td>18</td>\n",
       "      <td>18</td>\n",
       "      <td>18</td>\n",
       "      <td>19</td>\n",
       "      <td>18</td>\n",
       "      <td>18</td>\n",
       "      <td>17</td>\n",
       "      <td>...</td>\n",
       "      <td>18</td>\n",
       "      <td>18</td>\n",
       "      <td>17</td>\n",
       "      <td>17</td>\n",
       "      <td>18</td>\n",
       "      <td>19</td>\n",
       "      <td>19</td>\n",
       "      <td>17</td>\n",
       "      <td>19</td>\n",
       "      <td>17</td>\n",
       "    </tr>\n",
       "    <tr>\n",
       "      <th>1</th>\n",
       "      <td>1</td>\n",
       "      <td>0</td>\n",
       "      <td>-1</td>\n",
       "      <td>1</td>\n",
       "      <td>0</td>\n",
       "      <td>0</td>\n",
       "      <td>1</td>\n",
       "      <td>0</td>\n",
       "      <td>0</td>\n",
       "      <td>0</td>\n",
       "      <td>...</td>\n",
       "      <td>1</td>\n",
       "      <td>0</td>\n",
       "      <td>0</td>\n",
       "      <td>0</td>\n",
       "      <td>0</td>\n",
       "      <td>2</td>\n",
       "      <td>1</td>\n",
       "      <td>0</td>\n",
       "      <td>1</td>\n",
       "      <td>0</td>\n",
       "    </tr>\n",
       "    <tr>\n",
       "      <th>2</th>\n",
       "      <td>-19</td>\n",
       "      <td>-19</td>\n",
       "      <td>-20</td>\n",
       "      <td>-19</td>\n",
       "      <td>-19</td>\n",
       "      <td>-20</td>\n",
       "      <td>-18</td>\n",
       "      <td>-19</td>\n",
       "      <td>-20</td>\n",
       "      <td>-19</td>\n",
       "      <td>...</td>\n",
       "      <td>-19</td>\n",
       "      <td>-20</td>\n",
       "      <td>-21</td>\n",
       "      <td>-18</td>\n",
       "      <td>-19</td>\n",
       "      <td>-18</td>\n",
       "      <td>-19</td>\n",
       "      <td>-19</td>\n",
       "      <td>-18</td>\n",
       "      <td>-19</td>\n",
       "    </tr>\n",
       "    <tr>\n",
       "      <th>3</th>\n",
       "      <td>-16</td>\n",
       "      <td>-17</td>\n",
       "      <td>-17</td>\n",
       "      <td>-16</td>\n",
       "      <td>-16</td>\n",
       "      <td>-15</td>\n",
       "      <td>-16</td>\n",
       "      <td>-17</td>\n",
       "      <td>-18</td>\n",
       "      <td>-17</td>\n",
       "      <td>...</td>\n",
       "      <td>-15</td>\n",
       "      <td>-15</td>\n",
       "      <td>-15</td>\n",
       "      <td>-15</td>\n",
       "      <td>-15</td>\n",
       "      <td>-15</td>\n",
       "      <td>-15</td>\n",
       "      <td>-15</td>\n",
       "      <td>-14</td>\n",
       "      <td>-14</td>\n",
       "    </tr>\n",
       "    <tr>\n",
       "      <th>4</th>\n",
       "      <td>-5</td>\n",
       "      <td>-6</td>\n",
       "      <td>-6</td>\n",
       "      <td>-5</td>\n",
       "      <td>-5</td>\n",
       "      <td>-4</td>\n",
       "      <td>-5</td>\n",
       "      <td>-7</td>\n",
       "      <td>-7</td>\n",
       "      <td>-7</td>\n",
       "      <td>...</td>\n",
       "      <td>-4</td>\n",
       "      <td>-4</td>\n",
       "      <td>-4</td>\n",
       "      <td>-5</td>\n",
       "      <td>-4</td>\n",
       "      <td>-4</td>\n",
       "      <td>-4</td>\n",
       "      <td>-4</td>\n",
       "      <td>-3</td>\n",
       "      <td>-4</td>\n",
       "    </tr>\n",
       "  </tbody>\n",
       "</table>\n",
       "<p>5 rows × 800000 columns</p>\n",
       "</div>"
      ],
      "text/plain": [
       "   0       1       2       3       4       5       6       7       8       \\\n",
       "0      18      18      17      18      18      18      19      18      18   \n",
       "1       1       0      -1       1       0       0       1       0       0   \n",
       "2     -19     -19     -20     -19     -19     -20     -18     -19     -20   \n",
       "3     -16     -17     -17     -16     -16     -15     -16     -17     -18   \n",
       "4      -5      -6      -6      -5      -5      -4      -5      -7      -7   \n",
       "\n",
       "   9        ...    799990  799991  799992  799993  799994  799995  799996  \\\n",
       "0      17   ...        18      18      17      17      18      19      19   \n",
       "1       0   ...         1       0       0       0       0       2       1   \n",
       "2     -19   ...       -19     -20     -21     -18     -19     -18     -19   \n",
       "3     -17   ...       -15     -15     -15     -15     -15     -15     -15   \n",
       "4      -7   ...        -4      -4      -4      -5      -4      -4      -4   \n",
       "\n",
       "   799997  799998  799999  \n",
       "0      17      19      17  \n",
       "1       0       1       0  \n",
       "2     -19     -18     -19  \n",
       "3     -15     -14     -14  \n",
       "4      -4      -3      -4  \n",
       "\n",
       "[5 rows x 800000 columns]"
      ]
     },
     "execution_count": 28,
     "metadata": {},
     "output_type": "execute_result"
    }
   ],
   "source": [
    "df_train.head()"
   ]
  },
  {
   "cell_type": "code",
   "execution_count": 29,
   "metadata": {},
   "outputs": [
    {
     "data": {
      "text/html": [
       "<div>\n",
       "<style scoped>\n",
       "    .dataframe tbody tr th:only-of-type {\n",
       "        vertical-align: middle;\n",
       "    }\n",
       "\n",
       "    .dataframe tbody tr th {\n",
       "        vertical-align: top;\n",
       "    }\n",
       "\n",
       "    .dataframe thead th {\n",
       "        text-align: right;\n",
       "    }\n",
       "</style>\n",
       "<table border=\"1\" class=\"dataframe\">\n",
       "  <thead>\n",
       "    <tr style=\"text-align: right;\">\n",
       "      <th></th>\n",
       "      <th>signal_id</th>\n",
       "      <th>id_measurement</th>\n",
       "      <th>phase</th>\n",
       "      <th>target</th>\n",
       "    </tr>\n",
       "  </thead>\n",
       "  <tbody>\n",
       "    <tr>\n",
       "      <th>0</th>\n",
       "      <td>0</td>\n",
       "      <td>0</td>\n",
       "      <td>0</td>\n",
       "      <td>0</td>\n",
       "    </tr>\n",
       "    <tr>\n",
       "      <th>1</th>\n",
       "      <td>1</td>\n",
       "      <td>0</td>\n",
       "      <td>1</td>\n",
       "      <td>0</td>\n",
       "    </tr>\n",
       "    <tr>\n",
       "      <th>2</th>\n",
       "      <td>2</td>\n",
       "      <td>0</td>\n",
       "      <td>2</td>\n",
       "      <td>0</td>\n",
       "    </tr>\n",
       "    <tr>\n",
       "      <th>3</th>\n",
       "      <td>3</td>\n",
       "      <td>1</td>\n",
       "      <td>0</td>\n",
       "      <td>1</td>\n",
       "    </tr>\n",
       "    <tr>\n",
       "      <th>4</th>\n",
       "      <td>4</td>\n",
       "      <td>1</td>\n",
       "      <td>1</td>\n",
       "      <td>1</td>\n",
       "    </tr>\n",
       "  </tbody>\n",
       "</table>\n",
       "</div>"
      ],
      "text/plain": [
       "   signal_id  id_measurement  phase  target\n",
       "0          0               0      0       0\n",
       "1          1               0      1       0\n",
       "2          2               0      2       0\n",
       "3          3               1      0       1\n",
       "4          4               1      1       1"
      ]
     },
     "execution_count": 29,
     "metadata": {},
     "output_type": "execute_result"
    }
   ],
   "source": [
    "meta_train.head()"
   ]
  },
  {
   "cell_type": "markdown",
   "metadata": {},
   "source": [
    "The column labels for the training dataset were intially stored as string-type, the transposition converted them from Pandas column labels to Pandas indices, yet still string-type. The step below will recast the indices as integers for convenience."
   ]
  },
  {
   "cell_type": "code",
   "execution_count": 30,
   "metadata": {},
   "outputs": [],
   "source": [
    "df_train.index = df_train.index.map(int)"
   ]
  },
  {
   "cell_type": "markdown",
   "metadata": {},
   "source": [
    "Both the training metadata as training dataset are used to split the time-series observations 80% / 20% into training and test data. Because of the highly unbalanced classes, the stratify option is enabled. Due to the large neature of this dataset, the random train / test splitting is happening across the training data index labels, and not the data istself. Attempts to have multiple large subsets of the training data in memory overflowed the kernal. A discussion of alternative filetypes to be explored will follow in the last notebook."
   ]
  },
  {
   "cell_type": "code",
   "execution_count": 31,
   "metadata": {},
   "outputs": [],
   "source": [
    "X_train, X_test, y_train, y_test = train_test_split(\n",
    "    df_train.index, \n",
    "    meta_train['target'], \n",
    "    stratify = meta_train['target'], \n",
    "    test_size = .2,\n",
    "    random_state = 510\n",
    ")"
   ]
  },
  {
   "cell_type": "code",
   "execution_count": 32,
   "metadata": {},
   "outputs": [
    {
     "data": {
      "text/plain": [
       "((6969,), (1743,), (6969,), (1743,))"
      ]
     },
     "execution_count": 32,
     "metadata": {},
     "output_type": "execute_result"
    }
   ],
   "source": [
    "X_train.shape, X_test.shape, y_train.shape, y_test.shape"
   ]
  },
  {
   "cell_type": "markdown",
   "metadata": {},
   "source": [
    "Again, the train / test split above is only composed of index labels, not the data itself. Now to resample the data to create a balanced (50% PD / 50% no PD) dataset."
   ]
  },
  {
   "cell_type": "code",
   "execution_count": 33,
   "metadata": {},
   "outputs": [],
   "source": [
    "y_train_resamp = y_train[y_train == 1]\n",
    "X_train_resamp = X_train[y_train == 1]\n",
    "\n",
    "y_test_resamp = y_test[y_test == 1]\n",
    "X_test_resamp = X_test[y_test == 1]"
   ]
  },
  {
   "cell_type": "code",
   "execution_count": 34,
   "metadata": {},
   "outputs": [],
   "source": [
    "X_train_resamp = np.concatenate([X_train_resamp, np.random.choice(X_train[y_train == 0], y_train.sum(), replace=False)])\n",
    "y_train_resamp = np.concatenate([y_train_resamp, [0]* y_train.sum()])"
   ]
  },
  {
   "cell_type": "code",
   "execution_count": 35,
   "metadata": {},
   "outputs": [],
   "source": [
    "X_test_resamp = np.concatenate([X_test_resamp, np.random.choice(X_test[y_test == 0], y_test.sum(), replace=False)])\n",
    "y_test_resamp = np.concatenate([y_test_resamp, [0]* y_test.sum()])"
   ]
  },
  {
   "cell_type": "markdown",
   "metadata": {},
   "source": [
    "X_train and X_test represent the indices for the data selected by Scikit Learn's training / test split. X_train_resamp, X_test_resamp are the indices from the reconsituted balanced class, essentially bootstrapping a dataset. So these 4 variables are 1-D arrays of locations pointing to the information.\n",
    "\n",
    "Now those indices are used on the original large dataset to create subsets that contain that actually time-series data referenced by the index variables, but contained within df_train."
   ]
  },
  {
   "cell_type": "code",
   "execution_count": 37,
   "metadata": {},
   "outputs": [
    {
     "name": "stdout",
     "output_type": "stream",
     "text": [
      "CPU times: user 6.85 s, sys: 30.6 s, total: 37.4 s\n",
      "Wall time: 1min 11s\n"
     ]
    }
   ],
   "source": [
    "%%time\n",
    "X_train_data = df_train.iloc[X_train, :]\n",
    "X_test_data = df_train.iloc[X_test, :]\n",
    "X_train_resamp_data = df_train.iloc[X_train_resamp, :]\n",
    "X_test_resamp_data = df_train.iloc[X_test_resamp, :]"
   ]
  },
  {
   "cell_type": "code",
   "execution_count": 38,
   "metadata": {},
   "outputs": [
    {
     "data": {
      "text/html": [
       "<div>\n",
       "<style scoped>\n",
       "    .dataframe tbody tr th:only-of-type {\n",
       "        vertical-align: middle;\n",
       "    }\n",
       "\n",
       "    .dataframe tbody tr th {\n",
       "        vertical-align: top;\n",
       "    }\n",
       "\n",
       "    .dataframe thead th {\n",
       "        text-align: right;\n",
       "    }\n",
       "</style>\n",
       "<table border=\"1\" class=\"dataframe\">\n",
       "  <thead>\n",
       "    <tr style=\"text-align: right;\">\n",
       "      <th></th>\n",
       "      <th>0</th>\n",
       "      <th>1</th>\n",
       "      <th>2</th>\n",
       "      <th>3</th>\n",
       "      <th>4</th>\n",
       "      <th>5</th>\n",
       "      <th>6</th>\n",
       "      <th>7</th>\n",
       "      <th>8</th>\n",
       "      <th>9</th>\n",
       "      <th>...</th>\n",
       "      <th>799990</th>\n",
       "      <th>799991</th>\n",
       "      <th>799992</th>\n",
       "      <th>799993</th>\n",
       "      <th>799994</th>\n",
       "      <th>799995</th>\n",
       "      <th>799996</th>\n",
       "      <th>799997</th>\n",
       "      <th>799998</th>\n",
       "      <th>799999</th>\n",
       "    </tr>\n",
       "  </thead>\n",
       "  <tbody>\n",
       "    <tr>\n",
       "      <th>4874</th>\n",
       "      <td>16</td>\n",
       "      <td>14</td>\n",
       "      <td>12</td>\n",
       "      <td>12</td>\n",
       "      <td>14</td>\n",
       "      <td>16</td>\n",
       "      <td>17</td>\n",
       "      <td>16</td>\n",
       "      <td>14</td>\n",
       "      <td>13</td>\n",
       "      <td>...</td>\n",
       "      <td>14</td>\n",
       "      <td>15</td>\n",
       "      <td>16</td>\n",
       "      <td>17</td>\n",
       "      <td>16</td>\n",
       "      <td>15</td>\n",
       "      <td>14</td>\n",
       "      <td>15</td>\n",
       "      <td>16</td>\n",
       "      <td>17</td>\n",
       "    </tr>\n",
       "    <tr>\n",
       "      <th>1222</th>\n",
       "      <td>-22</td>\n",
       "      <td>-23</td>\n",
       "      <td>-23</td>\n",
       "      <td>-22</td>\n",
       "      <td>-21</td>\n",
       "      <td>-21</td>\n",
       "      <td>-22</td>\n",
       "      <td>-21</td>\n",
       "      <td>-22</td>\n",
       "      <td>-22</td>\n",
       "      <td>...</td>\n",
       "      <td>-21</td>\n",
       "      <td>-22</td>\n",
       "      <td>-21</td>\n",
       "      <td>-21</td>\n",
       "      <td>-21</td>\n",
       "      <td>-21</td>\n",
       "      <td>-20</td>\n",
       "      <td>-21</td>\n",
       "      <td>-21</td>\n",
       "      <td>-20</td>\n",
       "    </tr>\n",
       "    <tr>\n",
       "      <th>6121</th>\n",
       "      <td>18</td>\n",
       "      <td>17</td>\n",
       "      <td>17</td>\n",
       "      <td>17</td>\n",
       "      <td>17</td>\n",
       "      <td>17</td>\n",
       "      <td>18</td>\n",
       "      <td>18</td>\n",
       "      <td>17</td>\n",
       "      <td>17</td>\n",
       "      <td>...</td>\n",
       "      <td>18</td>\n",
       "      <td>19</td>\n",
       "      <td>19</td>\n",
       "      <td>19</td>\n",
       "      <td>18</td>\n",
       "      <td>18</td>\n",
       "      <td>17</td>\n",
       "      <td>18</td>\n",
       "      <td>18</td>\n",
       "      <td>18</td>\n",
       "    </tr>\n",
       "    <tr>\n",
       "      <th>8065</th>\n",
       "      <td>-12</td>\n",
       "      <td>-12</td>\n",
       "      <td>-11</td>\n",
       "      <td>-12</td>\n",
       "      <td>-12</td>\n",
       "      <td>-13</td>\n",
       "      <td>-13</td>\n",
       "      <td>-13</td>\n",
       "      <td>-12</td>\n",
       "      <td>-12</td>\n",
       "      <td>...</td>\n",
       "      <td>-12</td>\n",
       "      <td>-12</td>\n",
       "      <td>-13</td>\n",
       "      <td>-13</td>\n",
       "      <td>-12</td>\n",
       "      <td>-11</td>\n",
       "      <td>-11</td>\n",
       "      <td>-12</td>\n",
       "      <td>-12</td>\n",
       "      <td>-12</td>\n",
       "    </tr>\n",
       "    <tr>\n",
       "      <th>7689</th>\n",
       "      <td>16</td>\n",
       "      <td>16</td>\n",
       "      <td>16</td>\n",
       "      <td>16</td>\n",
       "      <td>18</td>\n",
       "      <td>17</td>\n",
       "      <td>17</td>\n",
       "      <td>17</td>\n",
       "      <td>15</td>\n",
       "      <td>17</td>\n",
       "      <td>...</td>\n",
       "      <td>16</td>\n",
       "      <td>15</td>\n",
       "      <td>18</td>\n",
       "      <td>17</td>\n",
       "      <td>15</td>\n",
       "      <td>17</td>\n",
       "      <td>14</td>\n",
       "      <td>17</td>\n",
       "      <td>16</td>\n",
       "      <td>16</td>\n",
       "    </tr>\n",
       "  </tbody>\n",
       "</table>\n",
       "<p>5 rows × 800000 columns</p>\n",
       "</div>"
      ],
      "text/plain": [
       "      0       1       2       3       4       5       6       7       8       \\\n",
       "4874      16      14      12      12      14      16      17      16      14   \n",
       "1222     -22     -23     -23     -22     -21     -21     -22     -21     -22   \n",
       "6121      18      17      17      17      17      17      18      18      17   \n",
       "8065     -12     -12     -11     -12     -12     -13     -13     -13     -12   \n",
       "7689      16      16      16      16      18      17      17      17      15   \n",
       "\n",
       "      9        ...    799990  799991  799992  799993  799994  799995  799996  \\\n",
       "4874      13   ...        14      15      16      17      16      15      14   \n",
       "1222     -22   ...       -21     -22     -21     -21     -21     -21     -20   \n",
       "6121      17   ...        18      19      19      19      18      18      17   \n",
       "8065     -12   ...       -12     -12     -13     -13     -12     -11     -11   \n",
       "7689      17   ...        16      15      18      17      15      17      14   \n",
       "\n",
       "      799997  799998  799999  \n",
       "4874      15      16      17  \n",
       "1222     -21     -21     -20  \n",
       "6121      18      18      18  \n",
       "8065     -12     -12     -12  \n",
       "7689      17      16      16  \n",
       "\n",
       "[5 rows x 800000 columns]"
      ]
     },
     "execution_count": 38,
     "metadata": {},
     "output_type": "execute_result"
    }
   ],
   "source": [
    "X_test_data.head()"
   ]
  },
  {
   "cell_type": "markdown",
   "metadata": {},
   "source": [
    "Each Pandas DatFrame / Series is recast as a SciPy / NumPy array in preparation for saving."
   ]
  },
  {
   "cell_type": "code",
   "execution_count": 39,
   "metadata": {},
   "outputs": [],
   "source": [
    "X_train_data = np.asarray(X_train_data)\n",
    "X_test_data = np.asarray(X_test_data)\n",
    "X_train_resamp_data = np.asarray(X_train_resamp_data)\n",
    "X_test_resamp_data = np.asarray(X_test_resamp_data)\n",
    "y_test = np.asarray(y_test)\n",
    "y_train = np.asarray(y_train)\n",
    "y_train_resamp = np.asarray(y_train_resamp)\n",
    "y_test_resamp = np.asarray(y_test_resamp)"
   ]
  },
  {
   "cell_type": "markdown",
   "metadata": {},
   "source": [
    "Each variable above is saved to a subdirectory as NumPy .npy file, while not compressed, it is optimized for reading from disk. The disk operations have been commented out to prevent re-running."
   ]
  },
  {
   "cell_type": "code",
   "execution_count": 40,
   "metadata": {},
   "outputs": [
    {
     "name": "stdout",
     "output_type": "stream",
     "text": [
      "CPU times: user 9 µs, sys: 2 µs, total: 11 µs\n",
      "Wall time: 19.3 µs\n"
     ]
    }
   ],
   "source": [
    "%%time\n",
    "# np.save('./npy_datasets/X_train_data', X_train_data)"
   ]
  },
  {
   "cell_type": "code",
   "execution_count": 41,
   "metadata": {},
   "outputs": [],
   "source": [
    "# np.save('./npy_datasets/X_test_data', X_test_data)"
   ]
  },
  {
   "cell_type": "code",
   "execution_count": 42,
   "metadata": {},
   "outputs": [],
   "source": [
    "# np.save('./npy_datasets/X_train_resamp_data', X_train_resamp_data)"
   ]
  },
  {
   "cell_type": "code",
   "execution_count": 43,
   "metadata": {},
   "outputs": [],
   "source": [
    "# np.save('./X_test_resamp_data', X_test_resamp_data)"
   ]
  },
  {
   "cell_type": "code",
   "execution_count": 44,
   "metadata": {},
   "outputs": [],
   "source": [
    "# np.save('./npy_datasets/y_test', y_test)"
   ]
  },
  {
   "cell_type": "code",
   "execution_count": 45,
   "metadata": {},
   "outputs": [],
   "source": [
    "# np.save('./npy_datasets/y_train', y_train)"
   ]
  },
  {
   "cell_type": "code",
   "execution_count": 46,
   "metadata": {},
   "outputs": [],
   "source": [
    "# np.save('./y_train_resamp', y_train_resamp)\n",
    "# np.save('./y_test_resamp', y_test_resamp)"
   ]
  },
  {
   "cell_type": "markdown",
   "metadata": {},
   "source": [
    "See Notebook #2 for time-series visualizations."
   ]
  }
 ],
 "metadata": {
  "kernelspec": {
   "display_name": "Python 3",
   "language": "python",
   "name": "python3"
  },
  "language_info": {
   "codemirror_mode": {
    "name": "ipython",
    "version": 3
   },
   "file_extension": ".py",
   "mimetype": "text/x-python",
   "name": "python",
   "nbconvert_exporter": "python",
   "pygments_lexer": "ipython3",
   "version": "3.6.8"
  }
 },
 "nbformat": 4,
 "nbformat_minor": 2
}
