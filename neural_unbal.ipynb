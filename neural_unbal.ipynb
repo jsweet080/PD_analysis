{
 "cells": [
  {
   "cell_type": "code",
   "execution_count": 1,
   "metadata": {},
   "outputs": [
    {
     "name": "stderr",
     "output_type": "stream",
     "text": [
      "Using TensorFlow backend.\n"
     ]
    },
    {
     "name": "stdout",
     "output_type": "stream",
     "text": [
      "Couldn't import dot_parser, loading of dot files will not be possible.\n"
     ]
    }
   ],
   "source": [
    "import numpy as np\n",
    "import pandas as pd\n",
    "from keras.utils import np_utils\n",
    "from sklearn.model_selection import train_test_split\n",
    "from keras.models import Sequential\n",
    "from keras.layers import Dense, Input, Dropout, Conv2D, MaxPooling2D, Flatten, Activation\n",
    "from keras.utils import np_utils\n",
    "from scipy.fftpack import fft\n",
    "\n",
    "%matplotlib inline"
   ]
  },
  {
   "cell_type": "code",
   "execution_count": 2,
   "metadata": {},
   "outputs": [
    {
     "name": "stdout",
     "output_type": "stream",
     "text": [
      "CPU times: user 4.09 ms, sys: 5.45 s, total: 5.45 s\n",
      "Wall time: 7.7 s\n"
     ]
    }
   ],
   "source": [
    "%%time\n",
    "X_train_data  = np.load('./X_train_data.npy')\n",
    "X_test_data   = np.load('./X_test_data.npy')\n",
    "y_test        = np.load('./y_test.npy')\n",
    "y_train       = np.load('./y_train.npy')"
   ]
  },
  {
   "cell_type": "code",
   "execution_count": 3,
   "metadata": {},
   "outputs": [],
   "source": [
    "y_test = np_utils.to_categorical(y_test)\n",
    "y_train = np_utils.to_categorical(y_train)"
   ]
  },
  {
   "cell_type": "code",
   "execution_count": 4,
   "metadata": {},
   "outputs": [
    {
     "name": "stderr",
     "output_type": "stream",
     "text": [
      "/Users/juliansweet/anaconda3/lib/python3.6/site-packages/scipy/fftpack/basic.py:153: FutureWarning: Using a non-tuple sequence for multidimensional indexing is deprecated; use `arr[tuple(seq)]` instead of `arr[seq]`. In the future this will be interpreted as an array index, `arr[np.array(seq)]`, which will result either in an error or a different result.\n",
      "  x = x[index]\n"
     ]
    }
   ],
   "source": [
    "n_fft = 256\n",
    "X_train_fft = fft(X_train_data, n_fft)\n",
    "X_test_fft  = fft(X_test_data, n_fft)"
   ]
  },
  {
   "cell_type": "code",
   "execution_count": 5,
   "metadata": {},
   "outputs": [],
   "source": [
    "X_train_fft = np.abs(X_train_fft)\n",
    "X_test_fft = np.abs(X_test_fft)"
   ]
  },
  {
   "cell_type": "code",
   "execution_count": 6,
   "metadata": {},
   "outputs": [],
   "source": [
    "X_train_fft = X_train_fft / np.max(X_train_fft)\n",
    "X_test_fft = X_test_fft / np.max(X_test_fft)"
   ]
  },
  {
   "cell_type": "code",
   "execution_count": 13,
   "metadata": {},
   "outputs": [
    {
     "data": {
      "text/plain": [
       "((6969, 256), (1743, 256))"
      ]
     },
     "execution_count": 13,
     "metadata": {},
     "output_type": "execute_result"
    }
   ],
   "source": [
    "X_train_fft.shape, X_test_fft.shape"
   ]
  },
  {
   "cell_type": "code",
   "execution_count": 17,
   "metadata": {},
   "outputs": [],
   "source": [
    "X2_train = X_train_fft.reshape([6969, 16, 16, 1]) "
   ]
  },
  {
   "cell_type": "code",
   "execution_count": 18,
   "metadata": {},
   "outputs": [],
   "source": [
    "X2_test = X_test_fft.reshape([1743, 16, 16, 1])"
   ]
  },
  {
   "cell_type": "code",
   "execution_count": 21,
   "metadata": {},
   "outputs": [
    {
     "data": {
      "text/plain": [
       "(6969, 16, 16, 1)"
      ]
     },
     "execution_count": 21,
     "metadata": {},
     "output_type": "execute_result"
    }
   ],
   "source": [
    "X2_train.shape"
   ]
  },
  {
   "cell_type": "code",
   "execution_count": 39,
   "metadata": {},
   "outputs": [],
   "source": [
    "cnn_model = Sequential()\n",
    "cnn_model.add(Conv2D(filters = 8, kernel_size=3, activation='relu', input_shape = (16, 16, 1)))\n",
    "cnn_model.add(MaxPooling2D(pool_size=(2,2)))\n",
    "cnn_model.add(Conv2D(16, kernel_size = 3, activation='relu'))\n",
    "cnn_model.add(MaxPooling2D(pool_size=(2,2)))\n",
    "cnn_model.add(Flatten())\n",
    "cnn_model.add(Dense(128, activation='relu'))\n",
    "cnn_model.add(Dense(2, activation='softmax'))\n",
    "cnn_model.compile(loss='categorical_crossentropy',\n",
    "                  optimizer = 'adam',\n",
    "                  metrics = ['accuracy'])"
   ]
  },
  {
   "cell_type": "code",
   "execution_count": 40,
   "metadata": {},
   "outputs": [
    {
     "name": "stdout",
     "output_type": "stream",
     "text": [
      "Epoch 1/15\n",
      "6969/6969 [==============================] - 1s 112us/step - loss: 0.3781 - acc: 0.9265\n",
      "Epoch 2/15\n",
      "6969/6969 [==============================] - 0s 51us/step - loss: 0.2294 - acc: 0.9397\n",
      "Epoch 3/15\n",
      "6969/6969 [==============================] - 0s 50us/step - loss: 0.2287 - acc: 0.9397\n",
      "Epoch 4/15\n",
      "6969/6969 [==============================] - 0s 52us/step - loss: 0.2281 - acc: 0.9397\n",
      "Epoch 5/15\n",
      "6969/6969 [==============================] - 0s 54us/step - loss: 0.2284 - acc: 0.9397\n",
      "Epoch 6/15\n",
      "6969/6969 [==============================] - 0s 51us/step - loss: 0.2276 - acc: 0.9397\n",
      "Epoch 7/15\n",
      "6969/6969 [==============================] - 0s 55us/step - loss: 0.2293 - acc: 0.9397\n",
      "Epoch 8/15\n",
      "6969/6969 [==============================] - 0s 53us/step - loss: 0.2271 - acc: 0.9397\n",
      "Epoch 9/15\n",
      "6969/6969 [==============================] - 0s 55us/step - loss: 0.2265 - acc: 0.9397\n",
      "Epoch 10/15\n",
      "6969/6969 [==============================] - 0s 56us/step - loss: 0.2273 - acc: 0.9397\n",
      "Epoch 11/15\n",
      "6969/6969 [==============================] - 0s 53us/step - loss: 0.2262 - acc: 0.9397\n",
      "Epoch 12/15\n",
      "6969/6969 [==============================] - 0s 53us/step - loss: 0.2260 - acc: 0.9397\n",
      "Epoch 13/15\n",
      "6969/6969 [==============================] - 0s 54us/step - loss: 0.2253 - acc: 0.9397\n",
      "Epoch 14/15\n",
      "6969/6969 [==============================] - 0s 56us/step - loss: 0.2241 - acc: 0.9397\n",
      "Epoch 15/15\n",
      "6969/6969 [==============================] - 0s 53us/step - loss: 0.2252 - acc: 0.9397\n"
     ]
    },
    {
     "data": {
      "text/plain": [
       "<keras.callbacks.History at 0x1dcc751d30>"
      ]
     },
     "execution_count": 40,
     "metadata": {},
     "output_type": "execute_result"
    }
   ],
   "source": [
    "cnn_model.fit(X2_train,\n",
    "              y_train,\n",
    "              batch_size = 100,\n",
    "              epochs=15,\n",
    "              verbose=1)"
   ]
  },
  {
   "cell_type": "code",
   "execution_count": 33,
   "metadata": {},
   "outputs": [
    {
     "ename": "AttributeError",
     "evalue": "'Sequential' object has no attribute 'score'",
     "output_type": "error",
     "traceback": [
      "\u001b[0;31m---------------------------------------------------------------------------\u001b[0m",
      "\u001b[0;31mAttributeError\u001b[0m                            Traceback (most recent call last)",
      "\u001b[0;32m<ipython-input-33-7213f87919be>\u001b[0m in \u001b[0;36m<module>\u001b[0;34m\u001b[0m\n\u001b[0;32m----> 1\u001b[0;31m \u001b[0mcnn_model\u001b[0m\u001b[0;34m.\u001b[0m\u001b[0mscore\u001b[0m\u001b[0;34m(\u001b[0m\u001b[0mX2_train\u001b[0m\u001b[0;34m,\u001b[0m \u001b[0my_train\u001b[0m\u001b[0;34m)\u001b[0m\u001b[0;34m\u001b[0m\u001b[0;34m\u001b[0m\u001b[0m\n\u001b[0m",
      "\u001b[0;31mAttributeError\u001b[0m: 'Sequential' object has no attribute 'score'"
     ]
    }
   ],
   "source": []
  },
  {
   "cell_type": "code",
   "execution_count": null,
   "metadata": {},
   "outputs": [],
   "source": []
  }
 ],
 "metadata": {
  "kernelspec": {
   "display_name": "Python 3",
   "language": "python",
   "name": "python3"
  },
  "language_info": {
   "codemirror_mode": {
    "name": "ipython",
    "version": 3
   },
   "file_extension": ".py",
   "mimetype": "text/x-python",
   "name": "python",
   "nbconvert_exporter": "python",
   "pygments_lexer": "ipython3",
   "version": "3.6.8"
  }
 },
 "nbformat": 4,
 "nbformat_minor": 2
}
